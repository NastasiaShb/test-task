{
 "cells": [
  {
   "cell_type": "code",
   "execution_count": 1,
   "id": "a1fdad85-8447-4944-aa06-cc51488003fe",
   "metadata": {},
   "outputs": [],
   "source": [
    "import sqlite3\n",
    "import pandas as pd\n",
    "import hashlib"
   ]
  },
  {
   "cell_type": "code",
   "execution_count": 4,
   "id": "5e909223-c04b-49dc-a7e8-017bf12adf4b",
   "metadata": {},
   "outputs": [],
   "source": [
    "orders_df = pd.read_csv(\"orders.csv\")\n",
    "items_df = pd.read_csv(\"items.csv\")"
   ]
  },
  {
   "cell_type": "code",
   "execution_count": 9,
   "id": "d72344e8-84e2-4ecd-912b-7e8ceb16976a",
   "metadata": {
    "scrolled": true
   },
   "outputs": [
    {
     "data": {
      "text/plain": [
       "7"
      ]
     },
     "execution_count": 9,
     "metadata": {},
     "output_type": "execute_result"
    }
   ],
   "source": [
    "conn = sqlite3.connect(\"orders.db\")\n",
    "\n",
    "orders_df.to_sql(\"orders\", conn, if_exists=\"replace\", index=False)\n",
    "items_df.to_sql(\"items\", conn, if_exists=\"replace\", index=False)\n"
   ]
  },
  {
   "cell_type": "code",
   "execution_count": 10,
   "id": "eee6dee6-7f66-4071-a661-399eaa79f16a",
   "metadata": {},
   "outputs": [],
   "source": [
    "cur = conn.cursor()\n",
    "cur.execute(\"\"\"\n",
    "CREATE TABLE IF NOT EXISTS orders_history (\n",
    "    order_id INTEGER,\n",
    "    user_id INTEGER,\n",
    "    item_id INTEGER,\n",
    "    total_price REAL,\n",
    "    hash_diff TEXT,\n",
    "    change_date TIMESTAMP DEFAULT CURRENT_TIMESTAMP,\n",
    "    PRIMARY KEY (order_id, change_date)\n",
    ");\n",
    "\"\"\")\n",
    "conn.commit()\n"
   ]
  },
  {
   "cell_type": "code",
   "execution_count": 13,
   "id": "82fb7d6a-c966-452e-8695-0154f22c1f78",
   "metadata": {},
   "outputs": [],
   "source": [
    "def calculate_hash(order):\n",
    "    \"\"\"Создаёт хеш-код от user_id, item_id и стоимости заказа\"\"\"\n",
    "    order_string = f\"{order['user_id']}{order['item_id']}{order['total_price']}\"\n",
    "    return hashlib.md5(order_string.encode()).hexdigest()\n"
   ]
  },
  {
   "cell_type": "code",
   "execution_count": 19,
   "id": "cf963ee6-b896-4bd2-9afa-396c1716a749",
   "metadata": {},
   "outputs": [],
   "source": [
    "def get_actual_price(item_id, order_date):\n",
    "    \"\"\"Возвращает актуальную цену товара на момент заказа\"\"\"\n",
    "    query = \"\"\"\n",
    "    SELECT price FROM items \n",
    "    WHERE item_id = ? AND update_date <= ? \n",
    "    ORDER BY update_date DESC \n",
    "    LIMIT 1\n",
    "    \"\"\"\n",
    "    cur.execute(query, (item_id, order_date))\n",
    "    result = cur.fetchone()\n",
    "    return result[0] if result else None  \n"
   ]
  },
  {
   "cell_type": "code",
   "execution_count": 20,
   "id": "30bb355f-0cd2-46a3-ad23-039c780a2c51",
   "metadata": {},
   "outputs": [],
   "source": [
    "def process_order(order):\n",
    "    \"\"\"Добавляет заказ в базу, если он изменился\"\"\"\n",
    "    \n",
    "    order_id = order[\"order_id\"]\n",
    "    \n",
    "    actual_price = get_actual_price(order[\"item_id\"], order[\"order_date\"])\n",
    "    if actual_price is None:\n",
    "        print(f\"Ошибка: не найдена цена для item_id {order['item_id']} на {order['order_date']}\")\n",
    "        return\n",
    "    \n",
    "    order[\"total_price\"] = actual_price  \n",
    "    new_hash = calculate_hash(order)  \n",
    "\n",
    "    cur.execute(\"\"\"\n",
    "        SELECT hash_diff FROM orders_history \n",
    "        WHERE order_id = ? \n",
    "        ORDER BY change_date DESC \n",
    "        LIMIT 1\n",
    "    \"\"\", (order_id,))\n",
    "    \n",
    "    last_hash = cur.fetchone()\n",
    "\n",
    "    if last_hash and last_hash[0] == new_hash:\n",
    "        print(f\"Заказ {order_id} не изменился, пропускаем.\")\n",
    "        return\n",
    "\n",
    "    cur.execute(\"\"\"\n",
    "        INSERT INTO orders_history (order_id, user_id, item_id, total_price, hash_diff)\n",
    "        VALUES (?, ?, ?, ?, ?)\n",
    "    \"\"\", (order_id, order[\"user_id\"], order[\"item_id\"], order[\"total_price\"], new_hash))\n",
    "    \n",
    "    conn.commit()\n",
    "    print(f\"Заказ {order_id} обновлён!\")\n"
   ]
  },
  {
   "cell_type": "code",
   "execution_count": 23,
   "id": "5a1188ec-9c7e-4581-98ff-2ec14cfae811",
   "metadata": {},
   "outputs": [
    {
     "name": "stdout",
     "output_type": "stream",
     "text": [
      "Заказ 1 не изменился, пропускаем.\n",
      "Заказ 2 не изменился, пропускаем.\n",
      "Заказ 3 не изменился, пропускаем.\n",
      "Заказ 4 не изменился, пропускаем.\n",
      "Заказ 5 не изменился, пропускаем.\n",
      "Заказ 6 не изменился, пропускаем.\n"
     ]
    }
   ],
   "source": [
    "orders_stream = pd.read_sql_query(\"SELECT * FROM orders\", conn)\n",
    "\n",
    "orders_list = orders_stream.to_dict(orient=\"records\")\n",
    "\n",
    "for order in orders_list:\n",
    "    process_order(order)\n"
   ]
  },
  {
   "cell_type": "code",
   "execution_count": 25,
   "id": "b185d5ee-75f6-4937-a28d-74fc858f351b",
   "metadata": {},
   "outputs": [
    {
     "data": {
      "text/html": [
       "<div>\n",
       "<style scoped>\n",
       "    .dataframe tbody tr th:only-of-type {\n",
       "        vertical-align: middle;\n",
       "    }\n",
       "\n",
       "    .dataframe tbody tr th {\n",
       "        vertical-align: top;\n",
       "    }\n",
       "\n",
       "    .dataframe thead th {\n",
       "        text-align: right;\n",
       "    }\n",
       "</style>\n",
       "<table border=\"1\" class=\"dataframe\">\n",
       "  <thead>\n",
       "    <tr style=\"text-align: right;\">\n",
       "      <th></th>\n",
       "      <th>order_id</th>\n",
       "      <th>user_id</th>\n",
       "      <th>item_id</th>\n",
       "      <th>total_price</th>\n",
       "      <th>hash_diff</th>\n",
       "      <th>change_date</th>\n",
       "    </tr>\n",
       "  </thead>\n",
       "  <tbody>\n",
       "    <tr>\n",
       "      <th>0</th>\n",
       "      <td>1</td>\n",
       "      <td>1</td>\n",
       "      <td>1</td>\n",
       "      <td>10.0</td>\n",
       "      <td>2cbca44843a864533ec05b321ae1f9d1</td>\n",
       "      <td>2025-02-26 08:19:07</td>\n",
       "    </tr>\n",
       "    <tr>\n",
       "      <th>1</th>\n",
       "      <td>2</td>\n",
       "      <td>2</td>\n",
       "      <td>2</td>\n",
       "      <td>2.0</td>\n",
       "      <td>bcbe3365e6ac95ea2c0343a2395834dd</td>\n",
       "      <td>2025-02-26 08:19:07</td>\n",
       "    </tr>\n",
       "    <tr>\n",
       "      <th>2</th>\n",
       "      <td>3</td>\n",
       "      <td>1</td>\n",
       "      <td>3</td>\n",
       "      <td>5.0</td>\n",
       "      <td>7f1de29e6da19d22b51c68001e7e0e54</td>\n",
       "      <td>2025-02-26 08:19:07</td>\n",
       "    </tr>\n",
       "    <tr>\n",
       "      <th>3</th>\n",
       "      <td>4</td>\n",
       "      <td>3</td>\n",
       "      <td>2</td>\n",
       "      <td>7.0</td>\n",
       "      <td>b83aac23b9528732c23cc7352950e880</td>\n",
       "      <td>2025-02-26 08:19:07</td>\n",
       "    </tr>\n",
       "    <tr>\n",
       "      <th>4</th>\n",
       "      <td>5</td>\n",
       "      <td>2</td>\n",
       "      <td>1</td>\n",
       "      <td>10.0</td>\n",
       "      <td>c3535febaff29fcb7c0d20cbe94391c7</td>\n",
       "      <td>2025-02-26 08:19:07</td>\n",
       "    </tr>\n",
       "    <tr>\n",
       "      <th>5</th>\n",
       "      <td>6</td>\n",
       "      <td>1</td>\n",
       "      <td>1</td>\n",
       "      <td>5.0</td>\n",
       "      <td>2b44928ae11fb9384c4cf38708677c48</td>\n",
       "      <td>2025-02-26 08:19:08</td>\n",
       "    </tr>\n",
       "  </tbody>\n",
       "</table>\n",
       "</div>"
      ],
      "text/plain": [
       "   order_id  user_id  item_id  total_price                         hash_diff  \\\n",
       "0         1        1        1         10.0  2cbca44843a864533ec05b321ae1f9d1   \n",
       "1         2        2        2          2.0  bcbe3365e6ac95ea2c0343a2395834dd   \n",
       "2         3        1        3          5.0  7f1de29e6da19d22b51c68001e7e0e54   \n",
       "3         4        3        2          7.0  b83aac23b9528732c23cc7352950e880   \n",
       "4         5        2        1         10.0  c3535febaff29fcb7c0d20cbe94391c7   \n",
       "5         6        1        1          5.0  2b44928ae11fb9384c4cf38708677c48   \n",
       "\n",
       "           change_date  \n",
       "0  2025-02-26 08:19:07  \n",
       "1  2025-02-26 08:19:07  \n",
       "2  2025-02-26 08:19:07  \n",
       "3  2025-02-26 08:19:07  \n",
       "4  2025-02-26 08:19:07  \n",
       "5  2025-02-26 08:19:08  "
      ]
     },
     "execution_count": 25,
     "metadata": {},
     "output_type": "execute_result"
    }
   ],
   "source": [
    "df = pd.read_sql_query(\"SELECT * FROM orders_history\", conn)\n",
    "\n",
    "df"
   ]
  }
 ],
 "metadata": {
  "kernelspec": {
   "display_name": "Python 3 (ipykernel)",
   "language": "python",
   "name": "python3"
  },
  "language_info": {
   "codemirror_mode": {
    "name": "ipython",
    "version": 3
   },
   "file_extension": ".py",
   "mimetype": "text/x-python",
   "name": "python",
   "nbconvert_exporter": "python",
   "pygments_lexer": "ipython3",
   "version": "3.12.5"
  }
 },
 "nbformat": 4,
 "nbformat_minor": 5
}
